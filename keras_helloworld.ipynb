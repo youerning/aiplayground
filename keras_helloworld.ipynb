{
 "cells": [
  {
   "cell_type": "markdown",
   "metadata": {},
   "source": [
    "# Keras Hello world\n",
    "参考: https://www.bilibili.com/video/av40787141"
   ]
  },
  {
   "cell_type": "code",
   "execution_count": 1,
   "metadata": {},
   "outputs": [
    {
     "name": "stderr",
     "output_type": "stream",
     "text": [
      "Using TensorFlow backend.\n"
     ]
    }
   ],
   "source": [
    "import keras\n",
    "import numpy as np\n",
    "import matplotlib.pyplot as plt\n",
    "from keras.models import Sequential\n",
    "from keras.layers import Dense, Activation\n",
    "from keras.optimizers import SGD, Adam"
   ]
  },
  {
   "cell_type": "markdown",
   "metadata": {},
   "source": [
    "## 线性回归"
   ]
  },
  {
   "cell_type": "code",
   "execution_count": 38,
   "metadata": {},
   "outputs": [
    {
     "data": {
      "text/plain": [
       "<matplotlib.collections.PathCollection at 0x23c7c410c18>"
      ]
     },
     "execution_count": 38,
     "metadata": {},
     "output_type": "execute_result"
    },
    {
     "data": {
      "image/png": "[encoded data removed]",
      "text/plain": [
       "<Figure size 432x288 with 1 Axes>"
      ]
     },
     "metadata": {
      "needs_background": "light"
     },
     "output_type": "display_data"
    }
   ],
   "source": [
    "# 构造线性数据 y = 2*x + 2\n",
    "x_data = np.random.random(100)\n",
    "# 添加噪音，数据总量100，平均值0.1，标准差0.2\n",
    "noise = np.random.normal(0.1, 0.2, size=(100))\n",
    "y_data = 2 * x_data + 2 + noise\n",
    "\n",
    "# 散点图显示x,y之间的关系\n",
    "plt.scatter(x_data, y_data)"
   ]
  },
  {
   "cell_type": "code",
   "execution_count": 43,
   "metadata": {},
   "outputs": [
    {
     "name": "stdout",
     "output_type": "stream",
     "text": [
      "Epoch 1/20\n",
      "100/100 [==============================] - 0s 2ms/step - loss: 8.4477\n",
      "Epoch 2/20\n",
      "100/100 [==============================] - 0s 169us/step - loss: 5.1702\n",
      "Epoch 3/20\n",
      "100/100 [==============================] - 0s 153us/step - loss: 3.1813\n",
      "Epoch 4/20\n",
      "100/100 [==============================] - 0s 203us/step - loss: 1.9773\n",
      "Epoch 5/20\n",
      "100/100 [==============================] - 0s 183us/step - loss: 1.2455\n",
      "Epoch 6/20\n",
      "100/100 [==============================] - 0s 164us/step - loss: 0.8012\n",
      "Epoch 7/20\n",
      "100/100 [==============================] - 0s 179us/step - loss: 0.5293\n",
      "Epoch 8/20\n",
      "100/100 [==============================] - 0s 169us/step - loss: 0.3639\n",
      "Epoch 9/20\n",
      "100/100 [==============================] - 0s 119us/step - loss: 0.2628\n",
      "Epoch 10/20\n",
      "100/100 [==============================] - 0s 208us/step - loss: 0.2010\n",
      "Epoch 11/20\n",
      "100/100 [==============================] - 0s 193us/step - loss: 0.1631\n",
      "Epoch 12/20\n",
      "100/100 [==============================] - 0s 243us/step - loss: 0.1388\n",
      "Epoch 13/20\n",
      "100/100 [==============================] - 0s 169us/step - loss: 0.1238\n",
      "Epoch 14/20\n",
      "100/100 [==============================] - 0s 193us/step - loss: 0.1143\n",
      "Epoch 15/20\n",
      "100/100 [==============================] - 0s 193us/step - loss: 0.1074\n",
      "Epoch 16/20\n",
      "100/100 [==============================] - 0s 174us/step - loss: 0.1026\n",
      "Epoch 17/20\n",
      "100/100 [==============================] - 0s 193us/step - loss: 0.0992\n",
      "Epoch 18/20\n",
      "100/100 [==============================] - 0s 184us/step - loss: 0.0967\n",
      "Epoch 19/20\n",
      "100/100 [==============================] - 0s 179us/step - loss: 0.0941\n",
      "Epoch 20/20\n",
      "100/100 [==============================] - 0s 218us/step - loss: 0.0922\n"
     ]
    },
    {
     "data": {
      "text/plain": [
       "<keras.callbacks.History at 0x23c7d61e6d8>"
      ]
     },
     "execution_count": 43,
     "metadata": {},
     "output_type": "execute_result"
    }
   ],
   "source": [
    "# 构造序列网络模型\n",
    "model = Sequential()\n",
    "# 增加全连接网络层，配置输出神经元units数量，输入的维度input_dim\n",
    "# 因为预测的是一个标量，所以配置一个神经元即可，输入的数据只有一个特征，所以输入的维度是1\n",
    "# 配置输入的数据有两种方式input_dim, input_shape\n",
    "# model.add(Dense(units=1, input_dim=1))\n",
    "model.add(Dense(units=1, input_shape=(1,)))\n",
    "# 编译模型，优化器选择SGD，损失函数选择MSE，均方差\n",
    "model.compile(optimizer=\"SGD\", loss=\"MSE\")\n",
    "\n",
    "\n",
    "# 由于只有一个全连接层及单元，所以只有一个 (W, b)连接权重，即y = W*x + b\n",
    "\n",
    "# 训练模型有多重方式，\n",
    "# 1. fit: 传入特征及目标值，以及训练的轮数，所有数据都训练了一次叫做一轮，1 epochs，\n",
    "# 还可以传入批次的数量batch_size\n",
    "model.fit(x=x_data, y=y_data, epochs=20)"
   ]
  },
  {
   "cell_type": "code",
   "execution_count": 44,
   "metadata": {},
   "outputs": [
    {
     "name": "stdout",
     "output_type": "stream",
     "text": [
      "0.090878\n",
      "0.058578752\n",
      "0.044805985\n",
      "0.038834304\n",
      "0.036245\n",
      "0.0351223\n",
      "0.0346355\n",
      "0.034424435\n",
      "0.034332916\n",
      "0.034293234\n"
     ]
    }
   ],
   "source": [
    "# 2. train_on_bacth\n",
    "for i in range(3000):\n",
    "#     这是训练了3000 轮？\n",
    "    error = model.train_on_batch(x_data, y_data)\n",
    "    if i % 300 == 0:\n",
    "        print(error)"
   ]
  },
  {
   "cell_type": "code",
   "execution_count": 41,
   "metadata": {},
   "outputs": [
    {
     "name": "stdout",
     "output_type": "stream",
     "text": [
      "[[1.4714545]] [0.98754466]\n"
     ]
    },
    {
     "data": {
      "text/plain": [
       "[<matplotlib.lines.Line2D at 0x23c7c4cbe48>]"
      ]
     },
     "execution_count": 41,
     "metadata": {},
     "output_type": "execute_result"
    },
    {
     "data": {
      "image/png": "[encoded data removed]",
      "text/plain": [
       "<Figure size 432x288 with 1 Axes>"
      ]
     },
     "metadata": {
      "needs_background": "light"
     },
     "output_type": "display_data"
    }
   ],
   "source": [
    "# print W, b\n",
    "w, b = model.layers[0].get_weights()\n",
    "print(w, b)\n",
    "\n",
    "y_predict = model.predict(x_data)\n",
    "plt.scatter(x_data, y_data)\n",
    "plt.plot(x_data, y_predict, c=\"red\")"
   ]
  },
  {
   "cell_type": "markdown",
   "metadata": {},
   "source": [
    "## 非线性回归"
   ]
  },
  {
   "cell_type": "code",
   "execution_count": 21,
   "metadata": {},
   "outputs": [
    {
     "data": {
      "text/plain": [
       "<matplotlib.collections.PathCollection at 0x229f1771748>"
      ]
     },
     "execution_count": 21,
     "metadata": {},
     "output_type": "execute_result"
    },
    {
     "data": {
      "image/png": "[encoded data removed]",
      "text/plain": [
       "<Figure size 432x288 with 1 Axes>"
      ]
     },
     "metadata": {
      "needs_background": "light"
     },
     "output_type": "display_data"
    }
   ],
   "source": [
    "# 构造非线性模型数据\n",
    "# 生成范围-0.5 到 0.5的等距离的200个点， 步长 (0.5 + 0.5) / 200\n",
    "x1_data = np.linspace(-0.5, 0.5, 200)\n",
    "# 添加噪音\n",
    "noise1 = np.random.normal(0.01, 0.02, size=(200))\n",
    "# y = x * x\n",
    "y1_data = np.square(x1_data) + noise1\n",
    "\n",
    "plt.scatter(x1_data, y1_data)"
   ]
  },
  {
   "cell_type": "code",
   "execution_count": 35,
   "metadata": {},
   "outputs": [],
   "source": [
    "# 构造模型\n",
    "model1 = Sequential()\n",
    "# 增加第一个全连接层，输出单元为2\n",
    "# 好像当前模型其他条件不变的情况下，sigmoid的效果比起tanh要差很多，几乎难以弯曲，或者说拟合\n",
    "# 可以通过在Dense里面添加activation关键字的方式或者使用Activation对象\n",
    "# model1.add(Dense(units=10, input_dim=1, activation=\"sigmoid\"))\n",
    "# 而神经元的数量可以使得弯曲程度加快\n",
    "model1.add(Dense(units=2, input_dim=1, activation=\"tanh\"))\n",
    "# model1.add(Activation(\"tanh\"))\n",
    "# 增加第二个全连接层，输出单元为1，即最终结果，除了模型的第一层需要配置输入数据的维度，后面面的网络层只需要配置输出单元\n",
    "model1.add(Dense(units=1, activation=\"tanh\"))\n",
    "# model1.add(Activation(\"tanh\"))\n",
    "\n",
    "\n",
    "# 默认SGD优化器学习率比较低\n",
    "sgd1 = SGD(lr=0.3)\n",
    "model1.compile(sgd1, loss=\"mse\")\n",
    "\n",
    "# 而最终的模型收敛速度由很多方面决定，比如优化器的学习效率，activation的选择，神经元的数量"
   ]
  },
  {
   "cell_type": "code",
   "execution_count": 36,
   "metadata": {},
   "outputs": [
    {
     "name": "stdout",
     "output_type": "stream",
     "text": [
      "0.19266228\n",
      "0.0061520534\n",
      "0.006073513\n",
      "0.0059832013\n",
      "0.005863332\n",
      "0.005686218\n",
      "0.005404383\n",
      "0.004937415\n",
      "0.0041722\n",
      "0.0030462695\n",
      "0.0017807073\n",
      "0.0008748613\n",
      "0.0004931028\n",
      "0.00038945326\n",
      "0.000367921\n"
     ]
    }
   ],
   "source": [
    "for i in range(3000):\n",
    "    loss = model1.train_on_batch(x1_data, y1_data)\n",
    "    if i % 200 == 0:\n",
    "        print(loss)\n",
    "\n",
    "# model1.fit(x1_data, y1_data, epochs=10)"
   ]
  },
  {
   "cell_type": "code",
   "execution_count": 37,
   "metadata": {},
   "outputs": [
    {
     "data": {
      "text/plain": [
       "[<matplotlib.lines.Line2D at 0x229f6929080>]"
      ]
     },
     "execution_count": 37,
     "metadata": {},
     "output_type": "execute_result"
    },
    {
     "data": {
      "image/png": "[encoded data removed]",
      "text/plain": [
       "<Figure size 432x288 with 1 Axes>"
      ]
     },
     "metadata": {
      "needs_background": "light"
     },
     "output_type": "display_data"
    }
   ],
   "source": [
    "y1_predict = model1.predict(x1_data)\n",
    "plt.scatter(x1_data, y1_data)\n",
    "plt.plot(x1_data, y1_predict, c=\"red\")"
   ]
  },
  {
   "cell_type": "code",
   "execution_count": 42,
   "metadata": {},
   "outputs": [
    {
     "data": {
      "text/plain": [
       "[<matplotlib.lines.Line2D at 0x229f7b32e10>]"
      ]
     },
     "execution_count": 42,
     "metadata": {},
     "output_type": "execute_result"
    },
    {
     "data": {
      "image/png": "[encoded data removed]",
      "text/plain": [
       "<Figure size 432x288 with 1 Axes>"
      ]
     },
     "metadata": {
      "needs_background": "light"
     },
     "output_type": "display_data"
    }
   ],
   "source": [
    "# 顺便瞧瞧更大维度的数据预测情况\n",
    "x_large_data = np.linspace(-2, 2, 800)\n",
    "y_large_predict = model1.predict(x_large_data)\n",
    "plt.scatter(x1_data, y1_data)\n",
    "plt.scatter(x_large_data, x_large_data * x_large_data)\n",
    "plt.plot(x_large_data, y1_predict, c=\"red\")\n",
    "\n",
    "# 其实会有点问题\n",
    "# 问题如下"
   ]
  },
  {
   "cell_type": "markdown",
   "metadata": {},
   "source": [
    "## MNIST 数据集分类"
   ]
  },
  {
   "cell_type": "code",
   "execution_count": 2,
   "metadata": {},
   "outputs": [],
   "source": [
    "from keras.datasets import mnist\n",
    "from keras.utils import np_utils"
   ]
  },
  {
   "cell_type": "code",
   "execution_count": 3,
   "metadata": {},
   "outputs": [
    {
     "name": "stdout",
     "output_type": "stream",
     "text": [
      "(60000, 28, 28)\n",
      "(60000,)\n",
      "5\n"
     ]
    },
    {
     "data": {
      "image/png": "[encoded data removed]",
      "text/plain": [
       "<Figure size 432x288 with 1 Axes>"
      ]
     },
     "metadata": {
      "needs_background": "light"
     },
     "output_type": "display_data"
    }
   ],
   "source": [
    "(x_train, y_train), (x_test, y_test) = mnist.load_data()\n",
    "\n",
    "# 查看数据shape\n",
    "print(x_train.shape)\n",
    "print(y_train.shape)\n",
    "\n",
    "# 查看数据内容\n",
    "plt.imshow(x_train[0,:,:])\n",
    "# 不显示数据轴\n",
    "plt.axis(\"off\")\n",
    "print(y_train[0])"
   ]
  },
  {
   "cell_type": "code",
   "execution_count": 4,
   "metadata": {},
   "outputs": [
    {
     "name": "stdout",
     "output_type": "stream",
     "text": [
      "WARNING:tensorflow:From c:\\users\\ye\\python\\python36\\lib\\site-packages\\tensorflow\\python\\framework\\op_def_library.py:263: colocate_with (from tensorflow.python.framework.ops) is deprecated and will be removed in a future version.\n",
      "Instructions for updating:\n",
      "Colocations handled automatically by placer.\n"
     ]
    }
   ],
   "source": [
    "# 数据预处理，原始数据是28x28的二维数据，需要转换成1维数据给全连接层\n",
    "# 一定要数据归一化,不然训练时间大大加长, 且准确率一直上不去\n",
    "# 如果用增加学习效率的方式提升收敛速度(数据没归一化的话),很有可能会准确率不增反降！！！\n",
    "x_train_  = x_train.reshape((x_train.shape[0], -1)) / 255.0\n",
    "x_test_  = x_test.reshape((x_test.shape[0], -1)) / 255.0\n",
    "\n",
    "# 构建网络模型\n",
    "model2 = Sequential()\n",
    "# softmax将数值转为概率\n",
    "model2.add(Dense(units=10, activation=\"softmax\", input_shape=(x_train_.shape[1], ), bias_initializer=\"one\"))\n",
    "\n",
    "# 不同的优化器对不同的问题有不同的效率，需要按需选择\n",
    "sgd = SGD(lr=0.2)\n",
    "# adm = Adam(lr=0.01)\n",
    "model2.compile(sgd, loss=\"mse\", metrics=[\"accuracy\"])"
   ]
  },
  {
   "cell_type": "code",
   "execution_count": 5,
   "metadata": {},
   "outputs": [
    {
     "name": "stdout",
     "output_type": "stream",
     "text": [
      "(60000, 10)\n",
      "5\n",
      "[0. 0. 0. 0. 0. 1. 0. 0. 0. 0.]\n"
     ]
    }
   ],
   "source": [
    "# 因为输出的shape是(10, ), 而原始数据的shape是(1)， 所以需要将数据做一定的变形\n",
    "y_train_ = np_utils.to_categorical(y_train, num_classes=10)\n",
    "y_test_ = np_utils.to_categorical(y_test, num_classes=10)\n",
    "\n",
    "# 再次查看目标值数据结构\n",
    "print(y_train_.shape)\n",
    "print(y_train[0])\n",
    "print(y_train_[0,:])"
   ]
  },
  {
   "cell_type": "code",
   "execution_count": 193,
   "metadata": {
    "scrolled": true
   },
   "outputs": [
    {
     "name": "stdout",
     "output_type": "stream",
     "text": [
      "Epoch 1/10\n",
      "60000/60000 [==============================] - 3s 55us/step - loss: 0.0367 - acc: 0.7883\n",
      "Epoch 2/10\n",
      "60000/60000 [==============================] - 3s 42us/step - loss: 0.0203 - acc: 0.8807\n",
      "Epoch 3/10\n",
      "60000/60000 [==============================] - 3s 43us/step - loss: 0.0178 - acc: 0.8928\n",
      "Epoch 4/10\n",
      "60000/60000 [==============================] - 3s 46us/step - loss: 0.0165 - acc: 0.8986\n",
      "Epoch 5/10\n",
      "60000/60000 [==============================] - 3s 50us/step - loss: 0.0157 - acc: 0.9031\n",
      "Epoch 6/10\n",
      "60000/60000 [==============================] - 3s 45us/step - loss: 0.0151 - acc: 0.9061\n",
      "Epoch 7/10\n",
      "60000/60000 [==============================] - 3s 51us/step - loss: 0.0147 - acc: 0.9090\n",
      "Epoch 8/10\n",
      "60000/60000 [==============================] - 3s 48us/step - loss: 0.0143 - acc: 0.9109\n",
      "Epoch 9/10\n",
      "60000/60000 [==============================] - 3s 44us/step - loss: 0.0140 - acc: 0.9122\n",
      "Epoch 10/10\n",
      "60000/60000 [==============================] - 3s 48us/step - loss: 0.0138 - acc: 0.9135\n"
     ]
    },
    {
     "data": {
      "text/plain": [
       "<keras.callbacks.History at 0x23c1445fdd8>"
      ]
     },
     "execution_count": 193,
     "metadata": {},
     "output_type": "execute_result"
    }
   ],
   "source": [
    "# 训练模型\n",
    "model2.fit(x_train_, y_train_, epochs=10, batch_size=32)"
   ]
  },
  {
   "cell_type": "code",
   "execution_count": 191,
   "metadata": {},
   "outputs": [
    {
     "name": "stdout",
     "output_type": "stream",
     "text": [
      "10000/10000 [==============================] - 1s 59us/step\n"
     ]
    },
    {
     "data": {
      "text/plain": [
       "[0.013855882668856997, 0.9212]"
      ]
     },
     "execution_count": 191,
     "metadata": {},
     "output_type": "execute_result"
    }
   ],
   "source": [
    "# 评估模型\n",
    "model2.evaluate(x_test_, y_test_)"
   ]
  },
  {
   "cell_type": "markdown",
   "metadata": {},
   "source": [
    "### 使用交叉熵提高准确率"
   ]
  },
  {
   "cell_type": "code",
   "execution_count": 6,
   "metadata": {},
   "outputs": [
    {
     "name": "stdout",
     "output_type": "stream",
     "text": [
      "WARNING:tensorflow:From c:\\users\\ye\\python\\python36\\lib\\site-packages\\tensorflow\\python\\ops\\math_ops.py:3066: to_int32 (from tensorflow.python.ops.math_ops) is deprecated and will be removed in a future version.\n",
      "Instructions for updating:\n",
      "Use tf.cast instead.\n",
      "Epoch 1/4\n",
      "60000/60000 [==============================] - 2s 40us/step - loss: 0.3767 - acc: 0.8933\n",
      "Epoch 2/4\n",
      "60000/60000 [==============================] - 2s 38us/step - loss: 0.3027 - acc: 0.9156\n",
      "Epoch 3/4\n",
      "60000/60000 [==============================] - 2s 37us/step - loss: 0.2894 - acc: 0.9184\n",
      "Epoch 4/4\n",
      "60000/60000 [==============================] - 3s 42us/step - loss: 0.2819 - acc: 0.9207\n",
      "10000/10000 [==============================] - 0s 21us/step\n"
     ]
    },
    {
     "data": {
      "text/plain": [
       "[0.285372691604495, 0.9197]"
      ]
     },
     "execution_count": 6,
     "metadata": {},
     "output_type": "execute_result"
    }
   ],
   "source": [
    "# 数据预处理\n",
    "x_train_  = x_train.reshape((x_train.shape[0], -1)) / 255.0\n",
    "x_test_  = x_test.reshape((x_test.shape[0], -1)) / 255.0\n",
    "\n",
    "y_train_ = np_utils.to_categorical(y_train, num_classes=10)\n",
    "y_test_ = np_utils.to_categorical(y_test, num_classes=10)\n",
    "\n",
    "# 构建网络模型\n",
    "model2 = Sequential()\n",
    "model2.add(Dense(units=10, activation=\"softmax\", input_shape=(x_train_.shape[1], ), bias_initializer=\"one\"))\n",
    "\n",
    "\n",
    "sgd = SGD(lr=0.2)\n",
    "# 只需改变损失函数为categorical_crossentropy\n",
    "model2.compile(sgd, loss=\"categorical_crossentropy\", metrics=[\"accuracy\"])\n",
    "# 训练模型\n",
    "model2.fit(x_train_, y_train_, epochs=4, batch_size=32)\n",
    "\n",
    "# 评估模型\n",
    "model2.evaluate(x_test_, y_test_)\n",
    "\n",
    "# 就输出信息而言，准确率第一轮就上升到了0.89，比之前的mse的第一轮数据0.78要很多呀！\n",
    "# 说明可以通过交叉熵的方式减少训练时间，同样的数据，mse需要训练十轮才达到饱和，交叉熵4轮差不多就可以了\n",
    "# 但是最终的结果相差无几"
   ]
  },
  {
   "cell_type": "markdown",
   "metadata": {},
   "source": [
    "### 是否可以通过其他方式提升训练速度？\n",
    "\n",
    "尝试首先将学习率提高很多，比如原始训练速度的两倍，保存模型然后再次以小学习率再次训练"
   ]
  },
  {
   "cell_type": "code",
   "execution_count": 17,
   "metadata": {},
   "outputs": [
    {
     "name": "stdout",
     "output_type": "stream",
     "text": [
      "0.5\n",
      "Epoch 1/2\n",
      "60000/60000 [==============================] - 2s 35us/step - loss: 0.0270 - acc: 0.8399\n",
      "Epoch 2/2\n",
      "60000/60000 [==============================] - 2s 33us/step - loss: 0.0165 - acc: 0.8989\n",
      "0.08\n",
      "Epoch 1/3\n",
      "60000/60000 [==============================] - 2s 31us/step - loss: 0.0152 - acc: 0.9053\n",
      "Epoch 2/3\n",
      "60000/60000 [==============================] - 2s 31us/step - loss: 0.0150 - acc: 0.9068\n",
      "Epoch 3/3\n",
      "60000/60000 [==============================] - 2s 31us/step - loss: 0.0148 - acc: 0.9079\n",
      "10000/10000 [==============================] - 0s 24us/step\n"
     ]
    },
    {
     "data": {
      "text/plain": [
       "[0.014030214979313314, 0.9124]"
      ]
     },
     "execution_count": 17,
     "metadata": {},
     "output_type": "execute_result"
    }
   ],
   "source": [
    "import keras.backend as K\n",
    "model3 = Sequential()\n",
    "# softmax将数值转为概率\n",
    "model3.add(Dense(units=10, activation=\"softmax\", input_shape=(x_train_.shape[1], ), bias_initializer=\"one\"))\n",
    "\n",
    "# 不同的优化器对不同的问题有不同的效率，需要按需选择\n",
    "sgd = SGD(lr=0.5)\n",
    "# adm = Adam(lr=0.01)\n",
    "model3.compile(sgd, loss=\"mse\", metrics=[\"accuracy\"])\n",
    "\n",
    "y_train_ = np_utils.to_categorical(y_train, num_classes=10)\n",
    "y_test_ = np_utils.to_categorical(y_test, num_classes=10)\n",
    "\n",
    "print(K.get_value(model3.optimizer.lr))\n",
    "model3.fit(x_train_, y_train_, epochs=2, batch_size=32)\n",
    "\n",
    "\n",
    "K.set_value(model3.optimizer.lr, 0.08)\n",
    "print(K.get_value(model3.optimizer.lr))\n",
    "model3.fit(x_train_, y_train_, epochs=3, batch_size=32)\n",
    "model3.evaluate(x_test_, y_test_)"
   ]
  },
  {
   "cell_type": "markdown",
   "metadata": {},
   "source": [
    "事实证明是可以的，所以可以通过前提将学习效率显著提高，然后后期将学习效率减少，已获得更快的训练速度"
   ]
  },
  {
   "cell_type": "markdown",
   "metadata": {},
   "source": [
    "### 通过Dropout放置过拟合"
   ]
  },
  {
   "cell_type": "code",
   "execution_count": 46,
   "metadata": {},
   "outputs": [
    {
     "name": "stdout",
     "output_type": "stream",
     "text": [
      "Epoch 1/5\n",
      "60000/60000 [==============================] - 3s 54us/step - loss: 0.3389 - acc: 0.8972\n",
      "Epoch 2/5\n",
      "60000/60000 [==============================] - 3s 49us/step - loss: 0.1602 - acc: 0.9517\n",
      "Epoch 3/5\n",
      "60000/60000 [==============================] - 2s 41us/step - loss: 0.1210 - acc: 0.9639\n",
      "Epoch 4/5\n",
      "60000/60000 [==============================] - 3s 44us/step - loss: 0.1002 - acc: 0.9689\n",
      "Epoch 5/5\n",
      "60000/60000 [==============================] - 3s 42us/step - loss: 0.0871 - acc: 0.9730\n",
      "evaluate train datasets\n",
      "60000/60000 [==============================] - 1s 23us/step\n",
      "[0.064496201136879, 0.9804166666666667]\n",
      "evaluate test datasets\n",
      "10000/10000 [==============================] - 0s 23us/step\n",
      "[0.10522403119727969, 0.9696]\n"
     ]
    }
   ],
   "source": [
    "# 增加网络模型复杂度，提升模型精确度\n",
    "model4 = Sequential()\n",
    "model4.add(Dense(units=40, activation=\"relu\", input_shape=(x_train_.shape[1], ), bias_initializer=\"one\"))\n",
    "model4.add(Dense(units=20, activation=\"relu\", input_shape=(x_train_.shape[1], ), bias_initializer=\"one\"))\n",
    "model4.add(Dense(units=10, activation=\"softmax\", input_shape=(x_train_.shape[1], ), bias_initializer=\"one\"))\n",
    "\n",
    "sgd = SGD(lr=0.1)\n",
    "model4.compile(sgd, loss=\"categorical_crossentropy\", metrics=[\"accuracy\"])\n",
    "\n",
    "model4.fit(x_train_, y_train_, epochs=5, batch_size=32)\n",
    "print(\"evaluate train datasets\")\n",
    "print(model4.evaluate(x_train_, y_train_))\n",
    "print(\"evaluate test datasets\")\n",
    "print(model4.evaluate(x_test_, y_test_))"
   ]
  },
  {
   "cell_type": "code",
   "execution_count": 48,
   "metadata": {},
   "outputs": [
    {
     "name": "stdout",
     "output_type": "stream",
     "text": [
      "WARNING:tensorflow:From c:\\users\\ye\\python\\python36\\lib\\site-packages\\keras\\backend\\tensorflow_backend.py:3445: calling dropout (from tensorflow.python.ops.nn_ops) with keep_prob is deprecated and will be removed in a future version.\n",
      "Instructions for updating:\n",
      "Please use `rate` instead of `keep_prob`. Rate should be set to `rate = 1 - keep_prob`.\n",
      "Epoch 1/5\n",
      "60000/60000 [==============================] - 4s 64us/step - loss: 0.6200 - acc: 0.8026\n",
      "Epoch 2/5\n",
      "60000/60000 [==============================] - 3s 54us/step - loss: 0.3615 - acc: 0.8887\n",
      "Epoch 3/5\n",
      "60000/60000 [==============================] - 3s 52us/step - loss: 0.3027 - acc: 0.9081\n",
      "Epoch 4/5\n",
      "60000/60000 [==============================] - 3s 49us/step - loss: 0.2701 - acc: 0.9171\n",
      "Epoch 5/5\n",
      "60000/60000 [==============================] - 3s 49us/step - loss: 0.2547 - acc: 0.9230\n",
      "evaluate train datasets\n",
      "60000/60000 [==============================] - 2s 27us/step\n",
      "[0.11438371137694145, 0.96625]\n",
      "evaluate test datasets\n",
      "10000/10000 [==============================] - 0s 26us/step\n",
      "[0.13475519996257498, 0.9639]\n"
     ]
    }
   ],
   "source": [
    "# 增加网络模型复杂度，提升模型精确度\n",
    "# 但是也可能会导致过拟合\n",
    "# 可以通过dropout的方式尽可能避免过拟合\n",
    "from keras.layers import Dropout\n",
    "\n",
    "model5 = Sequential()\n",
    "model5.add(Dense(units=40, activation=\"relu\", input_shape=(x_train_.shape[1], ), bias_initializer=\"one\"))\n",
    "model5.add(Dense(units=20, activation=\"relu\", input_shape=(x_train_.shape[1], ), bias_initializer=\"one\"))\n",
    "model5.add(Dropout(0.4))\n",
    "model5.add(Dense(units=10, activation=\"softmax\", input_shape=(x_train_.shape[1], ), bias_initializer=\"one\"))\n",
    "\n",
    "sgd = SGD(lr=0.1)\n",
    "model5.compile(sgd, loss=\"categorical_crossentropy\", metrics=[\"accuracy\"])\n",
    "\n",
    "model5.fit(x_train_, y_train_, epochs=5, batch_size=32)\n",
    "print(\"evaluate train datasets\")\n",
    "print(model5.evaluate(x_train_, y_train_))\n",
    "print(\"evaluate test datasets\")\n",
    "print(model5.evaluate(x_test_, y_test_))\n"
   ]
  },
  {
   "cell_type": "markdown",
   "metadata": {},
   "source": [
    "通过比较测试集与训练集的精确度的差异了解数据是否过拟合"
   ]
  },
  {
   "cell_type": "markdown",
   "metadata": {},
   "source": [
    "## 数据正则化"
   ]
  },
  {
   "cell_type": "code",
   "execution_count": 50,
   "metadata": {
    "scrolled": true
   },
   "outputs": [
    {
     "name": "stdout",
     "output_type": "stream",
     "text": [
      "Epoch 1/5\n",
      "60000/60000 [==============================] - 3s 55us/step - loss: 0.3280 - acc: 0.9052\n",
      "Epoch 2/5\n",
      "60000/60000 [==============================] - 3s 46us/step - loss: 0.1762 - acc: 0.9535\n",
      "Epoch 3/5\n",
      "60000/60000 [==============================] - 3s 48us/step - loss: 0.1438 - acc: 0.9636\n",
      "Epoch 4/5\n",
      "60000/60000 [==============================] - 3s 47us/step - loss: 0.1277 - acc: 0.9681\n",
      "Epoch 5/5\n",
      "60000/60000 [==============================] - 3s 50us/step - loss: 0.1170 - acc: 0.9723\n",
      "evaluate train datasets\n",
      "60000/60000 [==============================] - 2s 27us/step\n",
      "[0.10350066922008991, 0.9770166666666666]\n",
      "evaluate test datasets\n",
      "10000/10000 [==============================] - 0s 25us/step\n",
      "[0.13446754181981085, 0.9655]\n"
     ]
    }
   ],
   "source": [
    "from keras.regularizers import l2\n",
    "\n",
    "model5 = Sequential()\n",
    "model5.add(Dense(units=40, activation=\"relu\", input_shape=(x_train_.shape[1], ), bias_initializer=\"one\", kernel_regularizer=l2(0.0001)))\n",
    "model5.add(Dense(units=20, activation=\"relu\", input_shape=(x_train_.shape[1], ), bias_initializer=\"one\", kernel_regularizer=l2(0.0001)))\n",
    "model5.add(Dense(units=10, activation=\"softmax\", input_shape=(x_train_.shape[1], ), bias_initializer=\"one\", kernel_regularizer=l2(0.0001)))\n",
    "\n",
    "sgd = SGD(lr=0.1)\n",
    "model5.compile(sgd, loss=\"categorical_crossentropy\", metrics=[\"accuracy\"])\n",
    "\n",
    "model5.fit(x_train_, y_train_, epochs=5, batch_size=32)\n",
    "print(\"evaluate train datasets\")\n",
    "print(model5.evaluate(x_train_, y_train_))\n",
    "print(\"evaluate test datasets\")\n",
    "print(model5.evaluate(x_test_, y_test_))"
   ]
  },
  {
   "cell_type": "markdown",
   "metadata": {},
   "source": [
    "正则化参数似乎是需要多测试几遍的，主要是为了**简化模型**，提高**模型的泛化能力**"
   ]
  },
  {
   "cell_type": "markdown",
   "metadata": {},
   "source": [
    "## 优化器\n",
    "比较常用的有SGD, Adam优化器\n",
    "\n",
    "而不同的优化器的效率及速度是不一样的， 大多数情况下Adam优于SGD，据说"
   ]
  },
  {
   "cell_type": "markdown",
   "metadata": {},
   "source": [
    "##  卷积网络CNN"
   ]
  },
  {
   "cell_type": "code",
   "execution_count": 68,
   "metadata": {},
   "outputs": [
    {
     "name": "stdout",
     "output_type": "stream",
     "text": [
      "Epoch 1/5\n",
      "60000/60000 [==============================] - 14s 226us/step - loss: 0.2385 - acc: 0.9301\n",
      "Epoch 2/5\n",
      "60000/60000 [==============================] - 14s 227us/step - loss: 0.1377 - acc: 0.9586\n",
      "Epoch 3/5\n",
      "60000/60000 [==============================] - 15s 242us/step - loss: 0.1163 - acc: 0.9650\n",
      "Epoch 4/5\n",
      "60000/60000 [==============================] - 15s 247us/step - loss: 0.1064 - acc: 0.9680\n",
      "Epoch 5/5\n",
      "60000/60000 [==============================] - 16s 261us/step - loss: 0.0997 - acc: 0.9701\n",
      "evaluate train datasets\n",
      "60000/60000 [==============================] - 9s 158us/step\n",
      "[0.08116338098421692, 0.9757]\n",
      "evaluate test datasets\n",
      "10000/10000 [==============================] - 1s 148us/step\n",
      "[0.09429976611174642, 0.9704]\n"
     ]
    }
   ],
   "source": [
    "from keras.layers import Conv2D, MaxPool2D, Flatten\n",
    "\n",
    "# 卷积网络不需要将网络转换成一维, 所以可以直接将二维数据输入\n",
    "# 但是卷积网络的2维数据有一定的格式要求, 默认是(batch_size, height, width, chanels)\n",
    "# 所以需要将数据reshape\n",
    "cnn_x_train = x_train.reshape((-1, 28, 28, 1)) / 255.0\n",
    "cnn_x_test = x_test.reshape((-1, 28, 28, 1)) / 255.0\n",
    "\n",
    "model6 = Sequential()\n",
    "# 至少传入参数filters, kernel_size\n",
    "# 即 多少个filter, 每次filter的单位是多少,默认步长是(1, 1), padding是vaild\n",
    "# padding=same, 代表在卷积之后,使得输出与原输入一样\n",
    "# valid 代表不填充\n",
    "model6.add(Conv2D(3, (3, 3), input_shape=(28, 28, 1), padding=\"same\", activation=\"relu\"))\n",
    "# 卷积层输出 16 * 28 * 28\n",
    "# 一般卷积层后面紧接着一个池化层,由于向下采样\n",
    "# 默认池化单位是(2, 2), 相当于削减1/4体积\n",
    "model6.add(MaxPool2D())\n",
    "# model6.add(Conv2D(8, (5, 5))\n",
    "# # 卷积层输出 8 * 24 * 24\n",
    "# model6.add(MaxPool2D())\n",
    "# 卷积网络超级费计算, 用CPU实在是煎熬\n",
    "model6.add(Flatten())\n",
    "model6.add(Dense(units=10, activation=\"softmax\"))\n",
    "\n",
    "sgd6 = SGD(0.1)\n",
    "adm6 = Adam(0.005)\n",
    "\n",
    "model6.compile(adm6, loss=\"categorical_crossentropy\", metrics=[\"accuracy\"])\n",
    "\n",
    "model6.fit(cnn_x_train, y_train_, epochs=5, batch_size=32)\n",
    "print(\"evaluate train datasets\")\n",
    "print(model6.evaluate(cnn_x_train, y_train_))\n",
    "print(\"evaluate test datasets\")\n",
    "print(model6.evaluate(cnn_x_test, y_test_))"
   ]
  },
  {
   "cell_type": "markdown",
   "metadata": {},
   "source": [
    "## 保存训练好的模型"
   ]
  },
  {
   "cell_type": "code",
   "execution_count": 8,
   "metadata": {},
   "outputs": [
    {
     "name": "stdout",
     "output_type": "stream",
     "text": [
      "WARNING:tensorflow:From c:\\users\\ye\\python\\python36\\lib\\site-packages\\keras\\backend\\tensorflow_backend.py:3445: calling dropout (from tensorflow.python.ops.nn_ops) with keep_prob is deprecated and will be removed in a future version.\n",
      "Instructions for updating:\n",
      "Please use `rate` instead of `keep_prob`. Rate should be set to `rate = 1 - keep_prob`.\n",
      "Epoch 1/5\n",
      "60000/60000 [==============================] - 3s 54us/step - loss: 0.6215 - acc: 0.8012\n",
      "Epoch 2/5\n",
      "60000/60000 [==============================] - 3s 51us/step - loss: 0.3683 - acc: 0.8890\n",
      "Epoch 3/5\n",
      "60000/60000 [==============================] - 3s 44us/step - loss: 0.3112 - acc: 0.9064\n",
      "Epoch 4/5\n",
      "60000/60000 [==============================] - 3s 50us/step - loss: 0.2811 - acc: 0.9163\n",
      "Epoch 5/5\n",
      "60000/60000 [==============================] - 3s 51us/step - loss: 0.2603 - acc: 0.9220\n",
      "evaluate train datasets\n",
      "60000/60000 [==============================] - 2s 28us/step\n",
      "[0.12304026669667413, 0.9624333333333334]\n",
      "evaluate test datasets\n",
      "10000/10000 [==============================] - 0s 31us/step\n",
      "[0.15816135155558586, 0.9558]\n"
     ]
    }
   ],
   "source": [
    "from keras.layers import Dropout\n",
    "\n",
    "model5 = Sequential()\n",
    "model5.add(Dense(units=40, activation=\"relu\", input_shape=(x_train_.shape[1], ), bias_initializer=\"one\"))\n",
    "model5.add(Dense(units=20, activation=\"relu\", input_shape=(x_train_.shape[1], ), bias_initializer=\"one\"))\n",
    "model5.add(Dropout(0.4))\n",
    "model5.add(Dense(units=10, activation=\"softmax\", input_shape=(x_train_.shape[1], ), bias_initializer=\"one\"))\n",
    "\n",
    "sgd = SGD(lr=0.1)\n",
    "model5.compile(sgd, loss=\"categorical_crossentropy\", metrics=[\"accuracy\"])\n",
    "\n",
    "model5.fit(x_train_, y_train_, epochs=5, batch_size=32)\n",
    "print(\"evaluate train datasets\")\n",
    "print(model5.evaluate(x_train_, y_train_))\n",
    "print(\"evaluate test datasets\")\n",
    "print(model5.evaluate(x_test_, y_test_))\n",
    "\n",
    "# 保存模型\n",
    "# 保存模型有两种方式save, save_weights\n",
    "model5.save(\"mnist_dense_model.hdf5\")"
   ]
  },
  {
   "cell_type": "markdown",
   "metadata": {},
   "source": [
    "导入模型\n",
    "\n",
    "导入的模型可以接着继续训练"
   ]
  },
  {
   "cell_type": "code",
   "execution_count": 70,
   "metadata": {},
   "outputs": [
    {
     "name": "stdout",
     "output_type": "stream",
     "text": [
      "evaluate train datasets\n",
      "60000/60000 [==============================] - 2s 36us/step\n",
      "[0.11961323321020852, 0.96425]\n",
      "evaluate test datasets\n",
      "10000/10000 [==============================] - 0s 32us/step\n",
      "[0.14259768457049504, 0.9578]\n"
     ]
    }
   ],
   "source": [
    "from keras.models import load_model\n",
    "\n",
    "model7 = load_model(\"mnist_dense_model.hdf5\")\n",
    "print(\"evaluate train datasets\")\n",
    "print(model7.evaluate(x_train_, y_train_))\n",
    "print(\"evaluate test datasets\")\n",
    "print(model7.evaluate(x_test_, y_test_))"
   ]
  },
  {
   "cell_type": "markdown",
   "metadata": {},
   "source": [
    "## 可视化\n",
    "\n",
    "\n",
    "训练历史可视化"
   ]
  },
  {
   "cell_type": "code",
   "execution_count": 7,
   "metadata": {},
   "outputs": [
    {
     "ename": "NameError",
     "evalue": "name 'Dropout' is not defined",
     "output_type": "error",
     "traceback": [
      "\u001b[1;31m---------------------------------------------------------------------------\u001b[0m",
      "\u001b[1;31mNameError\u001b[0m                                 Traceback (most recent call last)",
      "\u001b[1;32m<ipython-input-7-f6302bf52e2c>\u001b[0m in \u001b[0;36m<module>\u001b[1;34m\u001b[0m\n\u001b[0;32m      2\u001b[0m \u001b[0mmodel8\u001b[0m\u001b[1;33m.\u001b[0m\u001b[0madd\u001b[0m\u001b[1;33m(\u001b[0m\u001b[0mDense\u001b[0m\u001b[1;33m(\u001b[0m\u001b[0munits\u001b[0m\u001b[1;33m=\u001b[0m\u001b[1;36m40\u001b[0m\u001b[1;33m,\u001b[0m \u001b[0mactivation\u001b[0m\u001b[1;33m=\u001b[0m\u001b[1;34m\"relu\"\u001b[0m\u001b[1;33m,\u001b[0m \u001b[0minput_shape\u001b[0m\u001b[1;33m=\u001b[0m\u001b[1;33m(\u001b[0m\u001b[0mx_train_\u001b[0m\u001b[1;33m.\u001b[0m\u001b[0mshape\u001b[0m\u001b[1;33m[\u001b[0m\u001b[1;36m1\u001b[0m\u001b[1;33m]\u001b[0m\u001b[1;33m,\u001b[0m \u001b[1;33m)\u001b[0m\u001b[1;33m,\u001b[0m \u001b[0mbias_initializer\u001b[0m\u001b[1;33m=\u001b[0m\u001b[1;34m\"one\"\u001b[0m\u001b[1;33m)\u001b[0m\u001b[1;33m)\u001b[0m\u001b[1;33m\u001b[0m\u001b[1;33m\u001b[0m\u001b[0m\n\u001b[0;32m      3\u001b[0m \u001b[0mmodel8\u001b[0m\u001b[1;33m.\u001b[0m\u001b[0madd\u001b[0m\u001b[1;33m(\u001b[0m\u001b[0mDense\u001b[0m\u001b[1;33m(\u001b[0m\u001b[0munits\u001b[0m\u001b[1;33m=\u001b[0m\u001b[1;36m20\u001b[0m\u001b[1;33m,\u001b[0m \u001b[0mactivation\u001b[0m\u001b[1;33m=\u001b[0m\u001b[1;34m\"relu\"\u001b[0m\u001b[1;33m,\u001b[0m \u001b[0minput_shape\u001b[0m\u001b[1;33m=\u001b[0m\u001b[1;33m(\u001b[0m\u001b[0mx_train_\u001b[0m\u001b[1;33m.\u001b[0m\u001b[0mshape\u001b[0m\u001b[1;33m[\u001b[0m\u001b[1;36m1\u001b[0m\u001b[1;33m]\u001b[0m\u001b[1;33m,\u001b[0m \u001b[1;33m)\u001b[0m\u001b[1;33m,\u001b[0m \u001b[0mbias_initializer\u001b[0m\u001b[1;33m=\u001b[0m\u001b[1;34m\"one\"\u001b[0m\u001b[1;33m)\u001b[0m\u001b[1;33m)\u001b[0m\u001b[1;33m\u001b[0m\u001b[1;33m\u001b[0m\u001b[0m\n\u001b[1;32m----> 4\u001b[1;33m \u001b[0mmodel8\u001b[0m\u001b[1;33m.\u001b[0m\u001b[0madd\u001b[0m\u001b[1;33m(\u001b[0m\u001b[0mDropout\u001b[0m\u001b[1;33m(\u001b[0m\u001b[1;36m0.4\u001b[0m\u001b[1;33m)\u001b[0m\u001b[1;33m)\u001b[0m\u001b[1;33m\u001b[0m\u001b[1;33m\u001b[0m\u001b[0m\n\u001b[0m\u001b[0;32m      5\u001b[0m \u001b[0mmodel8\u001b[0m\u001b[1;33m.\u001b[0m\u001b[0madd\u001b[0m\u001b[1;33m(\u001b[0m\u001b[0mDense\u001b[0m\u001b[1;33m(\u001b[0m\u001b[0munits\u001b[0m\u001b[1;33m=\u001b[0m\u001b[1;36m10\u001b[0m\u001b[1;33m,\u001b[0m \u001b[0mactivation\u001b[0m\u001b[1;33m=\u001b[0m\u001b[1;34m\"softmax\"\u001b[0m\u001b[1;33m,\u001b[0m \u001b[0minput_shape\u001b[0m\u001b[1;33m=\u001b[0m\u001b[1;33m(\u001b[0m\u001b[0mx_train_\u001b[0m\u001b[1;33m.\u001b[0m\u001b[0mshape\u001b[0m\u001b[1;33m[\u001b[0m\u001b[1;36m1\u001b[0m\u001b[1;33m]\u001b[0m\u001b[1;33m,\u001b[0m \u001b[1;33m)\u001b[0m\u001b[1;33m,\u001b[0m \u001b[0mbias_initializer\u001b[0m\u001b[1;33m=\u001b[0m\u001b[1;34m\"one\"\u001b[0m\u001b[1;33m)\u001b[0m\u001b[1;33m)\u001b[0m\u001b[1;33m\u001b[0m\u001b[1;33m\u001b[0m\u001b[0m\n\u001b[0;32m      6\u001b[0m \u001b[1;33m\u001b[0m\u001b[0m\n",
      "\u001b[1;31mNameError\u001b[0m: name 'Dropout' is not defined"
     ]
    }
   ],
   "source": [
    "model8 = Sequential()\n",
    "model8.add(Dense(units=40, activation=\"relu\", input_shape=(x_train_.shape[1], ), bias_initializer=\"one\"))\n",
    "model8.add(Dense(units=20, activation=\"relu\", input_shape=(x_train_.shape[1], ), bias_initializer=\"one\"))\n",
    "model8.add(Dropout(0.4))\n",
    "model8.add(Dense(units=10, activation=\"softmax\", input_shape=(x_train_.shape[1], ), bias_initializer=\"one\"))\n",
    "\n",
    "sgd = SGD(lr=0.1)\n",
    "model8.compile(sgd, loss=\"categorical_crossentropy\", metrics=[\"accuracy\"])\n",
    "\n",
    "history = model8.fit(x_train_, y_train_, validation_split=0.25, epochs=4, batch_size=32, verbose=1)\n",
    "print(\"evaluate train datasets\")\n",
    "print(model8.evaluate(x_train_, y_train_))\n",
    "print(\"evaluate test datasets\")\n",
    "print(model8.evaluate(x_test_, y_test_))\n",
    "\n",
    "\n",
    "# 绘制训练 & 验证的准确率值\n",
    "plt.plot(history.history['acc'])\n",
    "plt.plot(history.history['val_acc'])\n",
    "plt.title('Model accuracy')\n",
    "plt.ylabel('Accuracy')\n",
    "plt.xlabel('Epoch')\n",
    "plt.legend(['Train', 'Test'], loc='upper left')\n",
    "plt.show()"
   ]
  },
  {
   "cell_type": "markdown",
   "metadata": {},
   "source": [
    "模型可视化\n",
    "\n",
    "**必要依赖**\n",
    "\n",
    "pip install pydot\n",
    "\n",
    "以及安装Grahviz  https://graphviz.gitlab.io/_pages/Download/Download_windows.html\n",
    "\n",
    "然后将grahviz的安装路径加入环境变量， 比如: C:\\Program Files (x86)\\Graphviz2.38\\bin"
   ]
  },
  {
   "cell_type": "code",
   "execution_count": 6,
   "metadata": {},
   "outputs": [],
   "source": [
    "from keras.utils import plot_model\n",
    "import matplotlib.pyplot as plt"
   ]
  },
  {
   "cell_type": "code",
   "execution_count": 12,
   "metadata": {
    "scrolled": true
   },
   "outputs": [
    {
     "data": {
      "text/plain": [
       "<matplotlib.image.AxesImage at 0x1d14c6e3da0>"
      ]
     },
     "execution_count": 12,
     "metadata": {},
     "output_type": "execute_result"
    },
    {
     "data": {
      "image/png": "[encoded data removed]",
      "text/plain": [
       "<Figure size 576x576 with 1 Axes>"
      ]
     },
     "metadata": {
      "needs_background": "light"
     },
     "output_type": "display_data"
    }
   ],
   "source": [
    "from keras.layers import Dropout\n",
    "\n",
    "model5 = Sequential()\n",
    "model5.add(Dense(units=40, activation=\"relu\", input_shape=(x_train_.shape[1], ), bias_initializer=\"one\"))\n",
    "model5.add(Dense(units=20, activation=\"relu\", input_shape=(x_train_.shape[1], ), bias_initializer=\"one\"))\n",
    "model5.add(Dropout(0.4))\n",
    "model5.add(Dense(units=10, activation=\"softmax\", input_shape=(x_train_.shape[1], ), bias_initializer=\"one\"))\n",
    "\n",
    "sgd = SGD(lr=0.1)\n",
    "model5.compile(sgd, loss=\"categorical_crossentropy\", metrics=[\"accuracy\"])\n",
    "\n",
    "plot_model(model5, to_file=\"model5.png\", show_shapes=True, show_layer_names=False)\n",
    "img = plt.imread(\"model5.png\")\n",
    "plt.figure(figsize=(8, 8))\n",
    "plt.axis(\"off\")\n",
    "plt.imshow(img)"
   ]
  },
  {
   "cell_type": "code",
   "execution_count": 16,
   "metadata": {},
   "outputs": [
    {
     "data": {
      "text/plain": [
       "<matplotlib.image.AxesImage at 0x1d14c01a1d0>"
      ]
     },
     "execution_count": 16,
     "metadata": {},
     "output_type": "execute_result"
    },
    {
     "data": {
      "image/png": "[encoded data removed]",
      "text/plain": [
       "<Figure size 576x576 with 1 Axes>"
      ]
     },
     "metadata": {
      "needs_background": "light"
     },
     "output_type": "display_data"
    }
   ],
   "source": [
    "from keras.layers import Conv2D, MaxPool2D, Flatten\n",
    "\n",
    "model6 = Sequential()\n",
    "# 至少传入参数filters, kernel_size\n",
    "# 即 多少个filter, 每次filter的单位是多少,默认步长是(1, 1), padding是vaild\n",
    "# padding=same, 代表在卷积之后,使得输出与原输入一样\n",
    "# valid 代表不填充\n",
    "model6.add(Conv2D(16, (3, 3), input_shape=(28, 28, 1), padding=\"same\", activation=\"relu\"))\n",
    "# 卷积层输出 16 * 28 * 28\n",
    "# 一般卷积层后面紧接着一个池化层,由于向下采样\n",
    "# 默认池化单位是(2, 2), 相当于削减1/4体积\n",
    "model6.add(MaxPool2D())\n",
    "model6.add(Conv2D(8, (5, 5)))\n",
    "# 卷积层输出 8 * 10 * 10\n",
    "model6.add(MaxPool2D())\n",
    "# 卷积网络超级费计算, 用CPU实在是煎熬\n",
    "model6.add(Flatten())\n",
    "model6.add(Dense(units=10, activation=\"softmax\"))\n",
    "\n",
    "sgd6 = SGD(0.1)\n",
    "adm6 = Adam(0.005)\n",
    "\n",
    "model6.compile(adm6, loss=\"categorical_crossentropy\", metrics=[\"accuracy\"])\n",
    "plot_model(model6, to_file=\"model6.png\", show_shapes=True, show_layer_names=False)\n",
    "img = plt.imread(\"model6.png\")\n",
    "plt.figure(figsize=(8, 8))\n",
    "plt.axis(\"off\")\n",
    "plt.imshow(img)"
   ]
  }
 ],
 "metadata": {
  "kernelspec": {
   "display_name": "Python 3",
   "language": "python",
   "name": "python3"
  },
  "language_info": {
   "codemirror_mode": {
    "name": "ipython",
    "version": 3
   },
   "file_extension": ".py",
   "mimetype": "text/x-python",
   "name": "python",
   "nbconvert_exporter": "python",
   "pygments_lexer": "ipython3",
   "version": "3.6.8"
  }
 },
 "nbformat": 4,
 "nbformat_minor": 2
}
