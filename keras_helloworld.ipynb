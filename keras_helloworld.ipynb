{
 "cells": [
  {
   "cell_type": "markdown",
   "metadata": {},
   "source": [
    "# Keras Hello world\n",
    "参考: https://www.bilibili.com/video/av40787141"
   ]
  },
  {
   "cell_type": "code",
   "execution_count": 187,
   "metadata": {},
   "outputs": [],
   "source": [
    "import keras\n",
    "import numpy as np\n",
    "import matplotlib.pyplot as plt\n",
    "from keras.models import Sequential\n",
    "from keras.layers import Dense, Activation\n",
    "from keras.optimizers import SGD, Adam"
   ]
  },
  {
   "cell_type": "markdown",
   "metadata": {},
   "source": [
    "## 线性回归"
   ]
  },
  {
   "cell_type": "code",
   "execution_count": 38,
   "metadata": {},
   "outputs": [
    {
     "data": {
      "text/plain": [
       "<matplotlib.collections.PathCollection at 0x23c7c410c18>"
      ]
     },
     "execution_count": 38,
     "metadata": {},
     "output_type": "execute_result"
    },
    {
     "data": {
      "image/png": "[encoded data removed]",
      "text/plain": [
       "<Figure size 432x288 with 1 Axes>"
      ]
     },
     "metadata": {
      "needs_background": "light"
     },
     "output_type": "display_data"
    }
   ],
   "source": [
    "# 构造线性数据 y = 2*x + 2\n",
    "x_data = np.random.random(100)\n",
    "# 添加噪音，数据总量100，平均值0.1，标准差0.2\n",
    "noise = np.random.normal(0.1, 0.2, size=(100))\n",
    "y_data = 2 * x_data + 2 + noise\n",
    "\n",
    "# 散点图显示x,y之间的关系\n",
    "plt.scatter(x_data, y_data)"
   ]
  },
  {
   "cell_type": "code",
   "execution_count": 43,
   "metadata": {},
   "outputs": [
    {
     "name": "stdout",
     "output_type": "stream",
     "text": [
      "Epoch 1/20\n",
      "100/100 [==============================] - 0s 2ms/step - loss: 8.4477\n",
      "Epoch 2/20\n",
      "100/100 [==============================] - 0s 169us/step - loss: 5.1702\n",
      "Epoch 3/20\n",
      "100/100 [==============================] - 0s 153us/step - loss: 3.1813\n",
      "Epoch 4/20\n",
      "100/100 [==============================] - 0s 203us/step - loss: 1.9773\n",
      "Epoch 5/20\n",
      "100/100 [==============================] - 0s 183us/step - loss: 1.2455\n",
      "Epoch 6/20\n",
      "100/100 [==============================] - 0s 164us/step - loss: 0.8012\n",
      "Epoch 7/20\n",
      "100/100 [==============================] - 0s 179us/step - loss: 0.5293\n",
      "Epoch 8/20\n",
      "100/100 [==============================] - 0s 169us/step - loss: 0.3639\n",
      "Epoch 9/20\n",
      "100/100 [==============================] - 0s 119us/step - loss: 0.2628\n",
      "Epoch 10/20\n",
      "100/100 [==============================] - 0s 208us/step - loss: 0.2010\n",
      "Epoch 11/20\n",
      "100/100 [==============================] - 0s 193us/step - loss: 0.1631\n",
      "Epoch 12/20\n",
      "100/100 [==============================] - 0s 243us/step - loss: 0.1388\n",
      "Epoch 13/20\n",
      "100/100 [==============================] - 0s 169us/step - loss: 0.1238\n",
      "Epoch 14/20\n",
      "100/100 [==============================] - 0s 193us/step - loss: 0.1143\n",
      "Epoch 15/20\n",
      "100/100 [==============================] - 0s 193us/step - loss: 0.1074\n",
      "Epoch 16/20\n",
      "100/100 [==============================] - 0s 174us/step - loss: 0.1026\n",
      "Epoch 17/20\n",
      "100/100 [==============================] - 0s 193us/step - loss: 0.0992\n",
      "Epoch 18/20\n",
      "100/100 [==============================] - 0s 184us/step - loss: 0.0967\n",
      "Epoch 19/20\n",
      "100/100 [==============================] - 0s 179us/step - loss: 0.0941\n",
      "Epoch 20/20\n",
      "100/100 [==============================] - 0s 218us/step - loss: 0.0922\n"
     ]
    },
    {
     "data": {
      "text/plain": [
       "<keras.callbacks.History at 0x23c7d61e6d8>"
      ]
     },
     "execution_count": 43,
     "metadata": {},
     "output_type": "execute_result"
    }
   ],
   "source": [
    "# 构造序列网络模型\n",
    "model = Sequential()\n",
    "# 增加全连接网络层，配置输出神经元units数量，输入的维度input_dim\n",
    "# 因为预测的是一个标量，所以配置一个神经元即可，输入的数据只有一个特征，所以输入的维度是1\n",
    "# 配置输入的数据有两种方式input_dim, input_shape\n",
    "# model.add(Dense(units=1, input_dim=1))\n",
    "model.add(Dense(units=1, input_shape=(1,)))\n",
    "# 编译模型，优化器选择SGD，损失函数选择MSE，均方差\n",
    "model.compile(optimizer=\"SGD\", loss=\"MSE\")\n",
    "\n",
    "\n",
    "# 由于只有一个全连接层及单元，所以只有一个 (W, b)连接权重，即y = W*x + b\n",
    "\n",
    "# 训练模型有多重方式，\n",
    "# 1. fit: 传入特征及目标值，以及训练的轮数，所有数据都训练了一次叫做一轮，1 epochs，\n",
    "# 还可以传入批次的数量batch_size\n",
    "model.fit(x=x_data, y=y_data, epochs=20)"
   ]
  },
  {
   "cell_type": "code",
   "execution_count": 44,
   "metadata": {},
   "outputs": [
    {
     "name": "stdout",
     "output_type": "stream",
     "text": [
      "0.090878\n",
      "0.058578752\n",
      "0.044805985\n",
      "0.038834304\n",
      "0.036245\n",
      "0.0351223\n",
      "0.0346355\n",
      "0.034424435\n",
      "0.034332916\n",
      "0.034293234\n"
     ]
    }
   ],
   "source": [
    "# 2. train_on_bacth\n",
    "for i in range(3000):\n",
    "#     这是训练了3000 轮？\n",
    "    error = model.train_on_batch(x_data, y_data)\n",
    "    if i % 300 == 0:\n",
    "        print(error)"
   ]
  },
  {
   "cell_type": "code",
   "execution_count": 41,
   "metadata": {},
   "outputs": [
    {
     "name": "stdout",
     "output_type": "stream",
     "text": [
      "[[1.4714545]] [0.98754466]\n"
     ]
    },
    {
     "data": {
      "text/plain": [
       "[<matplotlib.lines.Line2D at 0x23c7c4cbe48>]"
      ]
     },
     "execution_count": 41,
     "metadata": {},
     "output_type": "execute_result"
    },
    {
     "data": {
      "image/png": "[encoded data removed]",
      "text/plain": [
       "<Figure size 432x288 with 1 Axes>"
      ]
     },
     "metadata": {
      "needs_background": "light"
     },
     "output_type": "display_data"
    }
   ],
   "source": [
    "# print W, b\n",
    "w, b = model.layers[0].get_weights()\n",
    "print(w, b)\n",
    "\n",
    "y_predict = model.predict(x_data)\n",
    "plt.scatter(x_data, y_data)\n",
    "plt.plot(x_data, y_predict, c=\"red\")"
   ]
  },
  {
   "cell_type": "markdown",
   "metadata": {},
   "source": [
    "## 非线性回归"
   ]
  },
  {
   "cell_type": "code",
   "execution_count": 37,
   "metadata": {},
   "outputs": [
    {
     "data": {
      "text/plain": [
       "<matplotlib.collections.PathCollection at 0x23c7c1efef0>"
      ]
     },
     "execution_count": 37,
     "metadata": {},
     "output_type": "execute_result"
    },
    {
     "data": {
      "image/png": "[encoded data removed]",
      "text/plain": [
       "<Figure size 432x288 with 1 Axes>"
      ]
     },
     "metadata": {
      "needs_background": "light"
     },
     "output_type": "display_data"
    }
   ],
   "source": [
    "# 构造非线性模型数据\n",
    "# 生成范围-0.5 到 0.5的等距离的200个点， 步长 (0.5 + 0.5) / 200\n",
    "x1_data = np.linspace(-0.5, 0.5, 200)\n",
    "# 添加噪音\n",
    "noise1 = np.random.normal(0.01, 0.02, size=(200))\n",
    "# y = x * x\n",
    "y1_data = np.square(x1_data) + noise1\n",
    "\n",
    "plt.scatter(x1_data, y1_data)"
   ]
  },
  {
   "cell_type": "code",
   "execution_count": 114,
   "metadata": {},
   "outputs": [],
   "source": [
    "# 构造模型\n",
    "model1 = Sequential()\n",
    "# 增加第一个全连接层，输出单元为2\n",
    "# 好像当前模型其他条件不变的情况下，sigmoid的效果比起tanh要差很多，几乎难以弯曲，或者说拟合\n",
    "# 可以通过在Dense里面添加activation关键字的方式或者使用Activation对象\n",
    "# model1.add(Dense(units=10, input_dim=1, activation=\"sigmoid\"))\n",
    "# 而神经元的数量可以使得弯曲程度加快\n",
    "model1.add(Dense(units=10, input_dim=1, activation=\"tanh\"))\n",
    "# model1.add(Activation(\"tanh\"))\n",
    "# 增加第二个全连接层，输出单元为1，即最终结果，除了模型的第一层需要配置输入数据的维度，后面面的网络层只需要配置输出单元\n",
    "model1.add(Dense(units=1, activation=\"tanh\"))\n",
    "# model1.add(Activation(\"tanh\"))\n",
    "\n",
    "\n",
    "# 默认SGD优化器学习率比较低\n",
    "sgd1 = SGD(lr=0.5)\n",
    "model1.compile(sgd1, loss=\"mse\")\n",
    "\n",
    "# 而最终的模型收敛速度由很多方面决定，比如优化器的学习效率，activation的选择，神经元的数量"
   ]
  },
  {
   "cell_type": "code",
   "execution_count": 112,
   "metadata": {},
   "outputs": [
    {
     "name": "stdout",
     "output_type": "stream",
     "text": [
      "0.029192843\n",
      "0.0058782045\n",
      "0.0051946603\n",
      "0.010781704\n",
      "0.0042360215\n",
      "0.0046211095\n",
      "0.0027226591\n",
      "0.0014999661\n",
      "0.00088559656\n",
      "0.00065313274\n",
      "0.0005625876\n",
      "0.00053148484\n",
      "0.0005234676\n",
      "0.00052778504\n",
      "0.0005398084\n"
     ]
    }
   ],
   "source": [
    "for i in range(3000):\n",
    "    loss = model1.train_on_batch(x1_data, y1_data)\n",
    "    if i % 200 == 0:\n",
    "        print(loss)\n",
    "\n",
    "# model1.fit(x1_data, y1_data, epochs=10)"
   ]
  },
  {
   "cell_type": "code",
   "execution_count": 113,
   "metadata": {},
   "outputs": [
    {
     "data": {
      "text/plain": [
       "[<matplotlib.lines.Line2D at 0x23c0847c3c8>]"
      ]
     },
     "execution_count": 113,
     "metadata": {},
     "output_type": "execute_result"
    },
    {
     "data": {
      "image/png": "[encoded data removed]",
      "text/plain": [
       "<Figure size 432x288 with 1 Axes>"
      ]
     },
     "metadata": {
      "needs_background": "light"
     },
     "output_type": "display_data"
    }
   ],
   "source": [
    "y1_predict = model1.predict(x1_data)\n",
    "plt.scatter(x1_data, y1_data)\n",
    "plt.plot(x1_data, y1_predict, c=\"red\")"
   ]
  },
  {
   "cell_type": "markdown",
   "metadata": {},
   "source": [
    "## MNIST 数据集分类"
   ]
  },
  {
   "cell_type": "code",
   "execution_count": 132,
   "metadata": {},
   "outputs": [],
   "source": [
    "from keras.datasets import mnist\n",
    "from keras.utils import np_utils"
   ]
  },
  {
   "cell_type": "code",
   "execution_count": 142,
   "metadata": {},
   "outputs": [
    {
     "name": "stdout",
     "output_type": "stream",
     "text": [
      "(60000, 28, 28)\n",
      "(60000,)\n",
      "5\n"
     ]
    },
    {
     "data": {
      "image/png": "[encoded data removed]",
      "text/plain": [
       "<Figure size 432x288 with 1 Axes>"
      ]
     },
     "metadata": {
      "needs_background": "light"
     },
     "output_type": "display_data"
    }
   ],
   "source": [
    "(x_train, y_train), (x_test, y_test) = mnist.load_data()\n",
    "\n",
    "# 查看数据shape\n",
    "print(x_train.shape)\n",
    "print(y_train.shape)\n",
    "\n",
    "# 查看数据内容\n",
    "plt.imshow(x_train[0,:,:])\n",
    "# 不显示数据轴\n",
    "plt.axis(\"off\")\n",
    "print(y_train[0])"
   ]
  },
  {
   "cell_type": "code",
   "execution_count": 192,
   "metadata": {},
   "outputs": [],
   "source": [
    "# 数据预处理，原始数据是28x28的二维数据，需要转换成1维数据给全连接层\n",
    "# 一定要数据归一化,不然训练时间大大加长, 且准确率一直上不去\n",
    "# 如果用增加学习效率的方式提升收敛速度(数据没归一化的话),很有可能会准确率不增反降！！！\n",
    "x_train_  = x_train.reshape((x_train.shape[0], -1)) / 255.0\n",
    "x_test_  = x_test.reshape((x_test.shape[0], -1)) / 255.0\n",
    "\n",
    "# 构建网络模型\n",
    "model2 = Sequential()\n",
    "# softmax将数值转为概率\n",
    "model2.add(Dense(units=10, activation=\"softmax\", input_shape=(x_train_.shape[1], ), bias_initializer=\"one\"))\n",
    "\n",
    "# 不同的优化器对不同的问题有不同的效率，需要按需选择\n",
    "sgd = SGD(lr=0.2)\n",
    "# adm = Adam(lr=0.01)\n",
    "model2.compile(sgd, loss=\"mse\", metrics=[\"accuracy\"])"
   ]
  },
  {
   "cell_type": "code",
   "execution_count": 151,
   "metadata": {},
   "outputs": [
    {
     "name": "stdout",
     "output_type": "stream",
     "text": [
      "(60000, 10)\n",
      "5\n",
      "[0. 0. 0. 0. 0. 1. 0. 0. 0. 0.]\n"
     ]
    }
   ],
   "source": [
    "# 因为输出的shape是(10, ), 而原始数据的shape是(1)， 所以需要将数据做一定的变形\n",
    "y_train_ = np_utils.to_categorical(y_train, num_classes=10)\n",
    "y_test_ = np_utils.to_categorical(y_test, num_classes=10)\n",
    "\n",
    "# 再次查看目标值数据结构\n",
    "print(y_train_.shape)\n",
    "print(y_train[0])\n",
    "print(y_train_[0,:])"
   ]
  },
  {
   "cell_type": "code",
   "execution_count": 193,
   "metadata": {
    "scrolled": true
   },
   "outputs": [
    {
     "name": "stdout",
     "output_type": "stream",
     "text": [
      "Epoch 1/10\n",
      "60000/60000 [==============================] - 3s 55us/step - loss: 0.0367 - acc: 0.7883\n",
      "Epoch 2/10\n",
      "60000/60000 [==============================] - 3s 42us/step - loss: 0.0203 - acc: 0.8807\n",
      "Epoch 3/10\n",
      "60000/60000 [==============================] - 3s 43us/step - loss: 0.0178 - acc: 0.8928\n",
      "Epoch 4/10\n",
      "60000/60000 [==============================] - 3s 46us/step - loss: 0.0165 - acc: 0.8986\n",
      "Epoch 5/10\n",
      "60000/60000 [==============================] - 3s 50us/step - loss: 0.0157 - acc: 0.9031\n",
      "Epoch 6/10\n",
      "60000/60000 [==============================] - 3s 45us/step - loss: 0.0151 - acc: 0.9061\n",
      "Epoch 7/10\n",
      "60000/60000 [==============================] - 3s 51us/step - loss: 0.0147 - acc: 0.9090\n",
      "Epoch 8/10\n",
      "60000/60000 [==============================] - 3s 48us/step - loss: 0.0143 - acc: 0.9109\n",
      "Epoch 9/10\n",
      "60000/60000 [==============================] - 3s 44us/step - loss: 0.0140 - acc: 0.9122\n",
      "Epoch 10/10\n",
      "60000/60000 [==============================] - 3s 48us/step - loss: 0.0138 - acc: 0.9135\n"
     ]
    },
    {
     "data": {
      "text/plain": [
       "<keras.callbacks.History at 0x23c1445fdd8>"
      ]
     },
     "execution_count": 193,
     "metadata": {},
     "output_type": "execute_result"
    }
   ],
   "source": [
    "# 训练模型\n",
    "model2.fit(x_train_, y_train_, epochs=10, batch_size=32)"
   ]
  },
  {
   "cell_type": "code",
   "execution_count": 191,
   "metadata": {},
   "outputs": [
    {
     "name": "stdout",
     "output_type": "stream",
     "text": [
      "10000/10000 [==============================] - 1s 59us/step\n"
     ]
    },
    {
     "data": {
      "text/plain": [
       "[0.013855882668856997, 0.9212]"
      ]
     },
     "execution_count": 191,
     "metadata": {},
     "output_type": "execute_result"
    }
   ],
   "source": [
    "# 评估模型\n",
    "model2.evaluate(x_test_, y_test_)"
   ]
  },
  {
   "cell_type": "markdown",
   "metadata": {},
   "source": [
    "### 使用交叉熵提高准确率"
   ]
  },
  {
   "cell_type": "code",
   "execution_count": 195,
   "metadata": {},
   "outputs": [
    {
     "name": "stdout",
     "output_type": "stream",
     "text": [
      "Epoch 1/4\n",
      "60000/60000 [==============================] - 4s 62us/step - loss: 0.3758 - acc: 0.8941\n",
      "Epoch 2/4\n",
      "60000/60000 [==============================] - 3s 47us/step - loss: 0.3031 - acc: 0.9152\n",
      "Epoch 3/4\n",
      "60000/60000 [==============================] - 3s 48us/step - loss: 0.2904 - acc: 0.9180\n",
      "Epoch 4/4\n",
      "60000/60000 [==============================] - 4s 62us/step - loss: 0.2829 - acc: 0.9207\n",
      "10000/10000 [==============================] - 1s 82us/step\n"
     ]
    },
    {
     "data": {
      "text/plain": [
       "[0.27471519321799276, 0.9244]"
      ]
     },
     "execution_count": 195,
     "metadata": {},
     "output_type": "execute_result"
    }
   ],
   "source": [
    "# 数据预处理\n",
    "x_train_  = x_train.reshape((x_train.shape[0], -1)) / 255.0\n",
    "x_test_  = x_test.reshape((x_test.shape[0], -1)) / 255.0\n",
    "\n",
    "y_train_ = np_utils.to_categorical(y_train, num_classes=10)\n",
    "y_test_ = np_utils.to_categorical(y_test, num_classes=10)\n",
    "\n",
    "# 构建网络模型\n",
    "model2 = Sequential()\n",
    "model2.add(Dense(units=10, activation=\"softmax\", input_shape=(x_train_.shape[1], ), bias_initializer=\"one\"))\n",
    "\n",
    "\n",
    "sgd = SGD(lr=0.2)\n",
    "# 只需改变损失函数为categorical_crossentropy\n",
    "model2.compile(sgd, loss=\"categorical_crossentropy\", metrics=[\"accuracy\"])\n",
    "# 训练模型\n",
    "model2.fit(x_train_, y_train_, epochs=4, batch_size=32)\n",
    "\n",
    "# 评估模型\n",
    "model2.evaluate(x_test_, y_test_)\n",
    "\n",
    "# 就输出信息而言，准确率第一轮就上升到了0.89，比之前的mse的第一轮数据0.78要很多呀！\n",
    "# 说明可以通过交叉熵的方式减少训练时间，同样的数据，mse需要训练十轮才达到饱和，交叉熵4轮差不多就可以了\n",
    "# 但是最终的结果相差无几"
   ]
  },
  {
   "cell_type": "markdown",
   "metadata": {},
   "source": [
    "### 通过Dropout放置过拟合"
   ]
  }
 ],
 "metadata": {
  "kernelspec": {
   "display_name": "Python 3",
   "language": "python",
   "name": "python3"
  },
  "language_info": {
   "codemirror_mode": {
    "name": "ipython",
    "version": 3
   },
   "file_extension": ".py",
   "mimetype": "text/x-python",
   "name": "python",
   "nbconvert_exporter": "python",
   "pygments_lexer": "ipython3",
   "version": "3.6.8"
  }
 },
 "nbformat": 4,
 "nbformat_minor": 2
}
